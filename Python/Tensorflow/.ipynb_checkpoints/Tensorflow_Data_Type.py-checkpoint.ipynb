{
 "cells": [
  {
   "cell_type": "code",
   "execution_count": 53,
   "metadata": {},
   "outputs": [
    {
     "name": "stdout",
     "output_type": "stream",
     "text": [
      "[ 10.  20.  30.  40.  50.]\n",
      "[52]\n",
      "[17]\n",
      "17.0\n"
     ]
    }
   ],
   "source": [
    "import tensorflow as tf\n",
    "\n",
    "ph = tf.placeholder(tf.float32, shape=[3,3])\n",
    "var = tf.Variable([1,2,3,4,5,6], dtype=tf.float32)\n",
    "const = tf.constant([10,20,30,40,50], dtype=tf.float32)\n",
    "\n",
    "sess = tf.Session()\n",
    "result1 = sess.run(const)\n",
    "print(result1)\n",
    "\n",
    "a = tf.constant([5])\n",
    "b = tf.constant([10])\n",
    "c = tf.constant([2])\n",
    "d = a * b + c\n",
    "\n",
    "sess = tf.Session()\n",
    "result = sess.run(d)\n",
    "print(result)\n",
    "\n",
    "\n",
    "\n",
    "var1 = tf.Variable([5])\n",
    "var2 = tf.Variable([3])\n",
    "var3 = tf.Variable([2])\n",
    "\n",
    "var4 = var1 * var2 + var3\n",
    "sess = tf.Session()\n",
    "init = tf.global_variables_initializer()\n",
    "sess.run(init)\n",
    "result = sess.run(var4)\n",
    "print(result)\n",
    "\n",
    "\n",
    "\n",
    "value1 = 5\n",
    "value2 = 3\n",
    "value3 = 2\n",
    "\n",
    "ph1 = tf.placeholder(dtype = tf.float32)\n",
    "ph2 = tf.placeholder(dtype = tf.float32)\n",
    "ph3 = tf.placeholder(dtype = tf.float32)\n",
    "\n",
    "result_val = ph1*ph2+ph3\n",
    "fd_dic = {ph1: value1, ph2: value2, ph3: value3}\n",
    "sess = tf.Session()\n",
    "result = sess.run(result_val, feed_dict=fd_dic)\n",
    "print(result)"
   ]
  }
 ],
 "metadata": {
  "kernelspec": {
   "display_name": "Python 3",
   "language": "python",
   "name": "python3"
  },
  "language_info": {
   "codemirror_mode": {
    "name": "ipython",
    "version": 3
   },
   "file_extension": ".py",
   "mimetype": "text/x-python",
   "name": "python",
   "nbconvert_exporter": "python",
   "pygments_lexer": "ipython3",
   "version": "3.5.4rc1"
  }
 },
 "nbformat": 4,
 "nbformat_minor": 2
}
